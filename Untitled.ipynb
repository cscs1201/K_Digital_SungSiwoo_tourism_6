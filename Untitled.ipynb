{
 "cells": [
  {
   "cell_type": "code",
   "execution_count": null,
   "metadata": {},
   "outputs": [],
   "source": [
    "import numpy as np\n",
    "import matplotlib.pyplot as plt\n",
    "from scipy.linalg import toeplitz\n",
    "np.random.seed(0)\n",
    "def make_data( showGraph=False ) :\n",
    "    rawdata = np.sin(2 * np.pi * 0.125 * np.arange(20))\n",
    "    if showGraph :\n",
    "        print( \"rawdata \", rawdata )\n",
    "        plt.plot(rawdata, 'ro-')\n",
    "        plt.xlim(-0.5, 20.5)\n",
    "        plt.ylim(-1.1, 1.1)\n",
    "        plt.show()"
   ]
  }
 ],
 "metadata": {
  "kernelspec": {
   "display_name": "Python 3",
   "language": "python",
   "name": "python3"
  },
  "language_info": {
   "codemirror_mode": {
    "name": "ipython",
    "version": 3
   },
   "file_extension": ".py",
   "mimetype": "text/x-python",
   "name": "python",
   "nbconvert_exporter": "python",
   "pygments_lexer": "ipython3",
   "version": "3.7.6"
  }
 },
 "nbformat": 4,
 "nbformat_minor": 4
}
